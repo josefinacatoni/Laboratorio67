{
 "cells": [
  {
   "cell_type": "code",
   "execution_count": 1,
   "metadata": {
    "collapsed": true
   },
   "outputs": [],
   "source": [
    "import numpy as np\n",
    "import matplotlib.pylab as plt"
   ]
  },
  {
   "cell_type": "code",
   "execution_count": 2,
   "metadata": {
    "collapsed": true
   },
   "outputs": [],
   "source": [
    "masas, num = 12, 10\n",
    "cuadrado = []\n",
    "for i in range(masas):\n",
    "    for j in range(num):\n",
    "        #cuadrado.append(np.genfromtxt('/home/codorso/JoseAye/16_05/C_M-{}_{}'.format(i,j), usecols=(2,3)))\n",
    "        cuadrado.append(np.genfromtxt(\"C:\\\\Users\\\\pc\\\\Downloads\\\\Labo6y7\\\\16_05\\\\C_M-{}_{}\".format(i,j), usecols=(2,3)))\n",
    "        "
   ]
  },
  {
   "cell_type": "code",
   "execution_count": 3,
   "metadata": {
    "collapsed": true
   },
   "outputs": [],
   "source": [
    "matriz_voltaje = np.zeros((masas,num))\n",
    "for i in range(masas):\n",
    "    for j in range(num): #en volts\n",
    "        matriz_voltaje[i,j] = np.mean(np.genfromtxt(\"C:\\\\Users\\\\pc\\\\Downloads\\\\Labo6y7\\\\16_05\\\\C_M-{}_{}\".format(i,j), usecols=(3)))*5/1023"
   ]
  },
  {
   "cell_type": "code",
   "execution_count": 16,
   "metadata": {},
   "outputs": [
    {
     "data": {
      "image/png": "[encoded data removed]",
      "text/plain": [
       "<matplotlib.figure.Figure at 0xddd790>"
      ]
     },
     "metadata": {},
     "output_type": "display_data"
    }
   ],
   "source": [
    "legend_amp = ['1', '2', '3', '4', '5', '6', '7', '8', '9', '10', '11', '12']\n",
    "masitas_aux = [99.93, 99.85, 100.03, 100.01, 100, 99.88, 100.03, 99.68, 99.95, 99.92, 99.90, 2403.9+221.09] + 6.45*np.ones(masas)\n",
    "masitas = np.cumsum(masitas_aux)\n",
    "#font = {'family': 'times new roman','color':  'darkred','weight': 'normal','size': 16,}\n",
    "\n",
    "plt.figure(figsize=(5,3))\n",
    "\n",
    "for i in range(masas-1):\n",
    "    plt.errorbar(masitas[i]*np.ones(num), matriz_voltaje[i,:], xerr=0.1, fmt='.')#, label= legend_amp[i])\n",
    "    plt.xlabel('Masa (gr)')#, fontsize='x-large')#, fontdict = font)\n",
    "    plt.ylabel('Voltaje (V)')#, fontsize='x-large')#, fontdict = font)\n",
    "    #plt.legend()\n",
    "    \n",
    "plt.errorbar(masitas_aux[11]*np.ones(num), matriz_voltaje[11,:], xerr=0.1, fmt='.')#, label= legend_amp[i])\n",
    "plt.grid()\n",
    "#plt.title('Cuadrado - Sobre base circular', fontsize='x-large')\n",
    "#plt.savefig('cuadrado_sobre-circular_V-vs-M.png')\n",
    "plt.show()    "
   ]
  },
  {
   "cell_type": "code",
   "execution_count": 5,
   "metadata": {
    "collapsed": true
   },
   "outputs": [],
   "source": [
    "Vin, R = 5, 100000\n",
    "matriz_resistencias = np.zeros((masas,num))\n",
    "for i in range(masas):\n",
    "    for j in range(num):\n",
    "        if matriz_voltaje[i,j]!=0:\n",
    "            matriz_resistencias[i,j] = (Vin/matriz_voltaje[i,j] -1)*R"
   ]
  },
  {
   "cell_type": "code",
   "execution_count": 19,
   "metadata": {},
   "outputs": [
    {
     "data": {
      "image/png": "[encoded data removed]",
      "text/plain": [
       "<matplotlib.figure.Figure at 0x66234b0>"
      ]
     },
     "metadata": {},
     "output_type": "display_data"
    }
   ],
   "source": [
    "plt.figure(figsize=(5,3))\n",
    "\n",
    "for i in range(masas-1):\n",
    "    plt.loglog(masitas[i]*np.ones(num), matriz_resistencias[i,:], '.')#, label= legend_amp[i])\n",
    "    plt.xlabel('Masas (gr)')#, fontsize='x-large')\n",
    "    plt.ylabel('R sensor ($\\Omega$)')#, fontsize='x-large')\n",
    "    #plt.legend()\n",
    "plt.loglog(masitas_aux[11]*np.ones(num), matriz_resistencias[11,:], '.')#, xerr=0.1, fmt='.')#, label= legend_amp[i])\n",
    "#plt.semilogx(2000*np.ones(num), matriz_resistencias[12,:], '.', label= '12')\n",
    "#plt.ylim(0,10**7)\n",
    "plt.grid()\n",
    "#plt.title('Cuadrado - Sobre base circular', fontsize='x-large')\n",
    "#plt.savefig('cuadrado_sobre-circular_R-vs-M.png')\n",
    "plt.show() "
   ]
  },
  {
   "cell_type": "code",
   "execution_count": 10,
   "metadata": {},
   "outputs": [
    {
     "data": {
      "text/plain": [
       "array([  1.73812030e+07,   1.05896552e+07,   0.00000000e+00,\n",
       "         8.41668863e+07,   8.52490000e+09,   2.55749000e+10,\n",
       "         2.08459459e+07,   0.00000000e+00,   0.00000000e+00,\n",
       "         0.00000000e+00])"
      ]
     },
     "execution_count": 10,
     "metadata": {},
     "output_type": "execute_result"
    }
   ],
   "source": [
    " matriz_resistencias[0,:]"
   ]
  },
  {
   "cell_type": "code",
   "execution_count": 18,
   "metadata": {},
   "outputs": [
    {
     "data": {
      "text/plain": [
       "(12, 10)"
      ]
     },
     "execution_count": 18,
     "metadata": {},
     "output_type": "execute_result"
    }
   ],
   "source": [
    "np.shape(matriz_resistencias)"
   ]
  },
  {
   "cell_type": "code",
   "execution_count": null,
   "metadata": {
    "collapsed": true
   },
   "outputs": [],
   "source": []
  }
 ],
 "metadata": {
  "kernelspec": {
   "display_name": "Python 3",
   "language": "python",
   "name": "python3"
  },
  "language_info": {
   "codemirror_mode": {
    "name": "ipython",
    "version": 3
   },
   "file_extension": ".py",
   "mimetype": "text/x-python",
   "name": "python",
   "nbconvert_exporter": "python",
   "pygments_lexer": "ipython3",
   "version": "3.6.2"
  }
 },
 "nbformat": 4,
 "nbformat_minor": 2
}
