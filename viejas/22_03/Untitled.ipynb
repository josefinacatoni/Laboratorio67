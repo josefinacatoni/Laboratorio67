{
 "cells": [
  {
   "cell_type": "code",
   "execution_count": 40,
   "metadata": {},
   "outputs": [],
   "source": [
    "import numpy as np\n",
    "import matplotlib.pylab as plt\n",
    "from scipy.optimize import curve_fit"
   ]
  },
  {
   "cell_type": "code",
   "execution_count": 46,
   "metadata": {},
   "outputs": [],
   "source": [
    "lectura=[]\n",
    "err_lect=[]\n",
    "R=np.array([4910,4420,3790,3110,2470,1820,1321,761,296,25,1])\n",
    "error_R=np.array([10,10,10,10,10,10,1,1,1,0.1,0.1])\n",
    "archivos=['Voltaje_R4910.txt','Voltaje_R4420.txt','Voltaje_R3790.txt','Voltaje_R3110.txt','Voltaje_R2470.txt','Voltaje_R1820.txt','Voltaje_R1321.txt','Voltaje_R0761.txt','Voltaje_R0296.txt','Voltaje_R0025.txt','Voltaje_R0001.txt']\n",
    "for i in archivos:\n",
    "    ard=np.loadtxt(i)\n",
    "    lectura.append(np.mean(ard[:,1]))\n",
    "    err_lect.append(np.std(ard[:,1]))\n",
    "    \n",
    "lectura=np.array(lectura)"
   ]
  },
  {
   "cell_type": "code",
   "execution_count": 37,
   "metadata": {},
   "outputs": [],
   "source": [
    "I=5/max(R)\n",
    "err_I=5*10/max(R)**2\n",
    "V=R*I\n",
    "errorV=np.sqrt((R*err_I)**2+(I*error_R)**2)"
   ]
  },
  {
   "cell_type": "code",
   "execution_count": 39,
   "metadata": {},
   "outputs": [
    {
     "data": {
      "text/plain": [
       "array([0.01440136, 0.01370162, 0.01286413, 0.01205419, 0.01139922,\n",
       "       0.01086037, 0.00292287, 0.00187831, 0.00118906, 0.00011427,\n",
       "       0.00010185])"
      ]
     },
     "execution_count": 39,
     "metadata": {},
     "output_type": "execute_result"
    }
   ],
   "source": [
    "errorV"
   ]
  },
  {
   "cell_type": "code",
   "execution_count": 41,
   "metadata": {},
   "outputs": [
    {
     "name": "stdout",
     "output_type": "stream",
     "text": [
      "[0.00489764 0.01103836]\n",
      "[[ 2.67839391e-11 -2.65186880e-11]\n",
      " [-2.65186880e-11  5.76946348e-09]]\n"
     ]
    }
   ],
   "source": [
    "f = lambda x, A, B: A * x + B\n",
    "\n",
    "# Ajustamos, pero con las funciónes logaritmicas. Usamos propagación de errores\n",
    "popt, pcov = curve_fit(f, lectura, V, sigma = errorV, \n",
    "                       absolute_sigma=True)\n",
    "\n",
    "print(popt)\n",
    "print(pcov)\n",
    "\n"
   ]
  },
  {
   "cell_type": "code",
   "execution_count": 61,
   "metadata": {},
   "outputs": [
    {
     "data": {
      "image/png": "[encoded data removed]",
      "text/plain": [
       "<Figure size 720x576 with 1 Axes>"
      ]
     },
     "metadata": {},
     "output_type": "display_data"
    }
   ],
   "source": [
    "plt.figure(figsize=(10,8))\n",
    "plt.errorbar(lectura,V,yerr=errorV,fmt='.')\n",
    "plt.plot(lectura,popt[1]+popt[0]*lectura)\n",
    "plt.grid()"
   ]
  },
  {
   "cell_type": "code",
   "execution_count": null,
   "metadata": {},
   "outputs": [],
   "source": []
  }
 ],
 "metadata": {
  "kernelspec": {
   "display_name": "Python 3",
   "language": "python",
   "name": "python3"
  },
  "language_info": {
   "codemirror_mode": {
    "name": "ipython",
    "version": 3
   },
   "file_extension": ".py",
   "mimetype": "text/x-python",
   "name": "python",
   "nbconvert_exporter": "python",
   "pygments_lexer": "ipython3",
   "version": "3.6.5"
  }
 },
 "nbformat": 4,
 "nbformat_minor": 2
}
