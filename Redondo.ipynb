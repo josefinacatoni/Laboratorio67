{
 "cells": [
  {
   "cell_type": "code",
   "execution_count": null,
   "metadata": {},
   "outputs": [],
   "source": [
    "import numpy as np\n",
    "import matplotlib.pylab as plt\n",
    "import os\n",
    "from scipy.optimize import curve_fit"
   ]
  },
  {
   "cell_type": "code",
   "execution_count": null,
   "metadata": {},
   "outputs": [],
   "source": [
    "numpo = 16\n",
    "data_amp = []\n",
    "for i in np.arange(1,6):\n",
    "    data_amp.append((np.genfromtxt('/home/codorso/JoseAye/10_05/redondo_{}'.format(i), usecols=(1,2))))\n",
    "\n",
    "legend_amp = ['0' ,'1', '2', '3', '4', '5', '6', '7', '8', '9', '10', '11', '12', '13','14','15' ]\n",
    "\n",
    "fin = 1000\n",
    "plt.figure(figsize=(10,8))\n",
    "\n",
    "for i in range(5):\n",
    "    plt.plot(data_amp[i][:fin,0], data_amp[i][:fin,1], '-.', label= legend_amp[i])\n",
    "    plt.grid()\n",
    "    plt.xlabel('Tiempo (ms)')\n",
    "    plt.ylabel('Amplitud (UA)')\n",
    "    plt.legend()\n",
    "\n",
    "plt.title('Posicion 0 (esquina) para una misma masa')\n",
    "#plt.savefig('cuadrada_masas_continua.png')\n",
    "plt.show() "
   ]
  },
  {
   "cell_type": "code",
   "execution_count": null,
   "metadata": {},
   "outputs": [],
   "source": []
  },
  {
   "cell_type": "code",
   "execution_count": null,
   "metadata": {},
   "outputs": [],
   "source": []
  },
  {
   "cell_type": "code",
   "execution_count": null,
   "metadata": {},
   "outputs": [],
   "source": []
  },
  {
   "cell_type": "code",
   "execution_count": null,
   "metadata": {},
   "outputs": [],
   "source": []
  }
 ],
 "metadata": {
  "kernelspec": {
   "display_name": "Python 3",
   "language": "python",
   "name": "python3"
  },
  "language_info": {
   "codemirror_mode": {
    "name": "ipython",
    "version": 3
   },
   "file_extension": ".py",
   "mimetype": "text/x-python",
   "name": "python",
   "nbconvert_exporter": "python",
   "pygments_lexer": "ipython3",
   "version": "3.6.7"
  }
 },
 "nbformat": 4,
 "nbformat_minor": 2
}
