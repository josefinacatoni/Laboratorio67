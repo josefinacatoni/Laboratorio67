{
 "cells": [
  {
   "cell_type": "code",
   "execution_count": 1,
   "metadata": {},
   "outputs": [
    {
     "name": "stdout",
     "output_type": "stream",
     "text": [
      "\n",
      "Generador de funciones Tektronix AFG 3021B\n",
      "Manual U (web): https://github.com/hgrecco/labosdf-bin/raw/master/manuals/TektronixAFG3000.pdf\n",
      "Manual P (web): https://github.com/hgrecco/labosdf-bin/raw/master/manuals/TektronixAFG3000_p.pdf\n",
      "Manual U (local): \\Srvlabos\\manuales\\Tektronix\\AFG3012B (M Usuario).pdf\n",
      "Manual P (local): \\Srvlabos\\manuales\\Tektronix\\AFG3012B (Prog Manual).pdf\n",
      "\n"
     ]
    }
   ],
   "source": [
    "# -*- coding: utf-8 -*-\n",
    "\"\"\"\n",
    "Generador de funciones Tektronix AFG 3021B\n",
    "Manual U (web): https://github.com/hgrecco/labosdf-bin/raw/master/manuals/TektronixAFG3000.pdf\n",
    "Manual P (web): https://github.com/hgrecco/labosdf-bin/raw/master/manuals/TektronixAFG3000_p.pdf\n",
    "Manual U (local): \\\\Srvlabos\\manuales\\Tektronix\\AFG3012B (M Usuario).pdf\n",
    "Manual P (local): \\\\Srvlabos\\manuales\\Tektronix\\AFG3012B (Prog Manual).pdf\n",
    "\"\"\"\n",
    "\n",
    "from __future__ import division, unicode_literals, print_function, absolute_import\n",
    "\n",
    "import time\n",
    "\n",
    "import numpy as np\n",
    "import visa\n",
    "\n",
    "print(__doc__)\n",
    "\n",
    "# Este string determina el intrumento que van a usar.\n",
    "# Lo tienen que cambiar de acuerdo a lo que tengan conectado.\n",
    "resource_name = 'USB0::0x0699::0x0346::C033250::INSTR'\n",
    "\n",
    "rm = visa.ResourceManager()\n"
   ]
  },
  {
   "cell_type": "code",
   "execution_count": 7,
   "metadata": {},
   "outputs": [
    {
     "name": "stdout",
     "output_type": "stream",
     "text": [
      "TEKTRONIX,AFG3021B,C033250,SCPI:99.0 FV:3.0.1\n",
      "\n"
     ]
    }
   ],
   "source": [
    "\n",
    "# Abre la sesion VISA de comunicacion\n",
    "fungen = rm.open_resource(resource_name)\n",
    "\n",
    "print(fungen.query('*IDN?'))\n",
    "\n",
    "# Rampa logaritmica de frequencias \n",
    "# Los dos primeros numeros (1 y 3) indican los exponentes de los limites(10^1 y 10^3)\n",
    "# El siguiente el numero de pasos\n",
    "time.sleep(1.5)\n",
    "\n",
    "for freq in np.arange(90000, 120000, 1000):\n",
    "    \n",
    "    fungen.write('FREQ %f' % freq)\n",
    "    time.sleep(5)\n",
    "\n",
    "# Rampa lineal de amplitudes\n",
    "# Los dos primeros numeros (0 y 1) indican los limites.\n",
    "# El siguiente el numero de pasos\n",
    "#for amplitude in np.linspace(0, 1, 10):\n",
    "#    fungen.write('VOLT %f' % amplitude)\n",
    "#    time.sleep(0.1)\n",
    "    \n",
    "    \n",
    "# Rampa lineal de offset\n",
    "# Los dos primeros numeros (0 y 1) indican los limites.\n",
    "# El siguiente el numero de pasos\n",
    "#for offset in np.linspace(0, 1, 10):\n",
    "#    fungen.write('VOLT:OFFS %f' % offset)\n",
    "#    time.sleep(0.1)\n",
    "\n",
    "fungen.close()"
   ]
  },
  {
   "cell_type": "code",
   "execution_count": 3,
   "metadata": {},
   "outputs": [],
   "source": [
    "fungen.close()"
   ]
  },
  {
   "cell_type": "code",
   "execution_count": null,
   "metadata": {},
   "outputs": [],
   "source": []
  }
 ],
 "metadata": {
  "kernelspec": {
   "display_name": "Python 2",
   "language": "python",
   "name": "python2"
  },
  "language_info": {
   "codemirror_mode": {
    "name": "ipython",
    "version": 2
   },
   "file_extension": ".py",
   "mimetype": "text/x-python",
   "name": "python",
   "nbconvert_exporter": "python",
   "pygments_lexer": "ipython2",
   "version": "2.7.15+"
  }
 },
 "nbformat": 4,
 "nbformat_minor": 2
}
